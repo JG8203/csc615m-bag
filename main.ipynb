{
 "cells": [
  {
   "cell_type": "markdown",
   "id": "e082233a-c692-4c00-a85d-dfb709638fe9",
   "metadata": {},
   "source": [
    "### Downloading the Dataset"
   ]
  },
  {
   "cell_type": "code",
   "execution_count": 3,
   "id": "62559dc1-c58d-4033-a8cc-7d829e463f35",
   "metadata": {},
   "outputs": [],
   "source": [
    "import pymupdf4llm\n",
    "import requests\n",
    "from tqdm import tqdm\n",
    "import re"
   ]
  },
  {
   "cell_type": "code",
   "execution_count": 6,
   "id": "743edda9-57a9-40ee-b513-289a02986d99",
   "metadata": {},
   "outputs": [
    {
     "name": "stdout",
     "output_type": "stream",
     "text": [
      "Downloading Hiligaynon-Maayong-Balita-nga-Biblia-All-Bible.pdf...\n",
      "Saved to Hiligaynon-Maayong-Balita-nga-Biblia-All-Bible.pdf\n",
      "Downloading Cebuano-All-Bible.pdf...\n",
      "Saved to Cebuano-All-Bible.pdf\n",
      "Downloading Filipino-Magandang-Balita-Biblia-Revised-All-Bible.pdf...\n",
      "Saved to Filipino-Magandang-Balita-Biblia-Revised-All-Bible.pdf\n"
     ]
    }
   ],
   "source": [
    "urls = [\n",
    "    \"https://bibliamundi.com/wp-content/uploads/2023/09/Hiligaynon-Maayong-Balita-nga-Biblia-All-Bible.pdf\",\n",
    "    \"https://bibliamundi.com/wp-content/uploads/2023/09/Cebuano-All-Bible.pdf\",\n",
    "    \"https://bibliamundi.com/wp-content/uploads/2023/09/Filipino-Magandang-Balita-Biblia-Revised-All-Bible.pdf\"\n",
    "]\n",
    "\n",
    "for url in urls:\n",
    "    filename = url.split(\"/\")[-1]\n",
    "    print(f\"Downloading {filename}...\")\n",
    "    response = requests.get(url)\n",
    "    if response.status_code == 200:\n",
    "        with open(filename, 'wb') as f:\n",
    "            f.write(response.content)\n",
    "        print(f\"Saved to {filename}\")\n",
    "    else:\n",
    "        print(f\"Failed to download {url}\")"
   ]
  },
  {
   "cell_type": "markdown",
   "id": "0d0017b1-d92a-4a0e-a340-4253a8dd6de8",
   "metadata": {},
   "source": [
    "### Converting PDFs to Text Files"
   ]
  },
  {
   "cell_type": "code",
   "execution_count": 5,
   "id": "99380336-d794-4532-9cb9-5a8b05748b69",
   "metadata": {},
   "outputs": [
    {
     "name": "stderr",
     "output_type": "stream",
     "text": [
      "  0%|                                                                                                                         | 0/3 [00:00<?, ?it/s]"
     ]
    },
    {
     "name": "stdout",
     "output_type": "stream",
     "text": [
      "Processing Cebuano-All-Bible.pdf...\n",
      "[========================================]\n"
     ]
    },
    {
     "name": "stderr",
     "output_type": "stream",
     "text": [
      " 33%|█████████████████████████████████████▎                                                                          | 1/3 [02:46<05:32, 166.14s/it]"
     ]
    },
    {
     "name": "stdout",
     "output_type": "stream",
     "text": [
      "Processing Hiligaynon-Ang-Pulong-Sang-Dios-All-Bible.pdf...\n",
      "[========================================]\n"
     ]
    },
    {
     "name": "stderr",
     "output_type": "stream",
     "text": [
      " 67%|██████████████████████████████████████████████████████████████████████████▋                                     | 2/3 [04:53<02:23, 143.59s/it]"
     ]
    },
    {
     "name": "stdout",
     "output_type": "stream",
     "text": [
      "Processing Filipino-Magandang-Balita-Biblia-Revised-All-Bible.pdf...\n",
      "[========================================]\n"
     ]
    },
    {
     "name": "stderr",
     "output_type": "stream",
     "text": [
      "100%|████████████████████████████████████████████████████████████████████████████████████████████████████████████████| 3/3 [07:43<00:00, 154.39s/it]\n"
     ]
    }
   ],
   "source": [
    "bible_files = [\"Cebuano-All-Bible\",\"Hiligaynon-Ang-Pulong-Sang-Dios-All-Bible\",\n",
    "               \"Hiligaynon-Maayong-Balita-nga-Biblia-All-Bible\"]\n",
    "\n",
    "for file in tqdm(bible_files):\n",
    "    md_text = pymupdf4llm.to_markdown(f\"{file}.pdf\", show_progress=True)\n",
    "    with open(f'{file}.md', 'w') as f: f.write(md_text)"
   ]
  },
  {
   "attachments": {},
   "cell_type": "markdown",
   "id": "26be2e62-0c91-45c7-a08e-a2ef0482cf24",
   "metadata": {},
   "source": [
    "# First Look\n",
    "The Bible datasets used in this notebook were primarily sourced from the **Philippine Bible Society**, the leading institution responsible for translating and publishing Scripture in various Philippine languages. All selected versions were obtained from [Bibliamundi](https://bibliamundi.com), a digital platform dedicated to aggregating and freely distributing multilingual editions of the Bible in accessible formats such as PDF.\n",
    "\n",
    "### Hiligaynon: Maayong Balita nga Biblia (en: The Good News Bible)\n",
    "The Maayong Balita nga Biblia (2012) is a dynamic-equivalence translation of the Bible into Hiligaynon, designed to communicate the message of Scripture in a clear and natural style. It was translated directly from the original Hebrew and Greek texts by the Philippine Bible Society, using widely accepted scholarly sources such as the Masoretic Text and the UBS Greek New Testament.\n",
    "\n",
    "This edition adopts an informal yet faithful tone to make the text accessible to contemporary readers. It primarily serves the approximately 7 million Hiligaynon speakers living in Western Visayas and surrounding regions in the Philippines.\n",
    "\n",
    "### Cebuano: Ang Bag-ong Maayong Balita (en: The Good News Bible)\n",
    "The Ang Bag-ong Maayong Balita Biblia is a Cebuano based translation of the bible. It was published by the Philippine Bible Society in 1999. This bible also adapts a dynamic-equivalence philosophy, which focuses on converying the meaning of the original texts rather than word-for-word translation. It also uses the Masoretic Texts for the Old Testament and the UBS Greek New Testament. One notable thing about this edition and other editions of the Good News Bible used within this notebook is the lack of the Deuterocanonical Books.\n",
    "\n",
    "Cebuano is spoken by 20 million people in Central and Eastern Visayas, as well as some parts of Mindanao and other migrant communities. This version is more commonly used in Protestant and evangelical sources.\n",
    "\n",
    "### Tagalog: Magandang Balita Biblia (en: The Good News Bible)\n",
    "The Magandang Balita Biblia is a Tagalog Bible Translation first published by the Philippine Bible Society in 1973. This notebook uses the Revised 2005 edition. There are 2012 editions of both the Cebuano and Tagalog translations of this edition of the bible, however they are not available for download. Similar to both the Cebuano and Hiligaynon editions of the bible, this translation also uses the Masoretic Texts. Furthermore, the deuterocanonical books aren't also present within this edition of the bible. However, all three translations of the bible with deuterocanon could be found from other sources in [dead tree](https://www.lazada.com.ph/products/pdp-i3864887974-s29222713708.html).\n",
    "\n",
    "Tagalog is spoken by over 29 million native speakers in Luzon with L2 speakers in other regions of the country as well. This edution of the bible is used by both both Catholic and Protestants for personal study and academic research."
   ]
  },
  {
   "cell_type": "markdown",
   "id": "162d89bc-02c7-42d2-aae5-5c20795b1d28",
   "metadata": {},
   "source": [
    "# Hiligaynon Section"
   ]
  },
  {
   "cell_type": "markdown",
   "id": "f5b63a64-1a03-49e9-8d7d-21d36e043ef1",
   "metadata": {},
   "source": [
    "## Pre-Processing of the Hiligaynon Text\n",
    "\n",
    "When we convert the Hiligaynon Bible PDF into plain text, certain recurring artifacts become apparent. For example:\n",
    "\n",
    "```plaintext\n",
    "Maayong Balita nga Biblia\n",
    "© 2012 Philippine Bible Society.\n",
    "\n",
    "19\n",
    "```\n",
    "\n",
    "Here, the lines represent the title, the copyright notice, and a standalone page number carried over from the original PDF. Our first step is to remove any lines that consist solely of a numeric page indicator or contain only copyright information.\n",
    "\n",
    "Additionally, the document’s header periodically reappears in this form:\n",
    "\n",
    "```plaintext\n",
    "2\n",
    "# **Hiligaynon – All Bible**\n",
    "\n",
    "Maayong Balita nga Biblia\n",
    "\n",
    "Maayong Balita nga Biblia\n",
    "© 2012 Philippine Bible Society.\n",
    "\n",
    "3\n",
    "\n",
    "# **Hiligaynon – All Bible**\n",
    "\n",
    "Maayong Balita nga Biblia\n",
    "```\n",
    "\n",
    "To eliminate these redundancies, we strip out every line beginning with a Markdown header (`#`) as well as any line composed of a single numeral. Once these artifacts are removed, only the core biblical text remains. For example:\n",
    "\n",
    "```plaintext\n",
    "*Genesis 1*\n",
    "\n",
    "**Ang Pagtuga**\n",
    "\n",
    "1 Sa ginsuguran gintuga sang Dios ang kalangitan kag ang duta.\n",
    "\n",
    "2 Ang duta wala pa sing sulod kag porma. Ang mabalod nga kadagatan nga\n",
    "nagatabon sang tanan nalikupan sang bug-os nga kadudulman kag ang\n",
    "Espiritu sang Dios nagahulag sa ibabaw sang tubig.\n",
    "\n",
    "3 Dayon ang Dios nagmando, “Magluntad ang kapawa!” Kag may kapawa.\n",
    "\n",
    "4 Kag ang Dios nanamian sang iya nakita. Dayon ginpain niya ang kapawa sa\n",
    "kadudulman.\n",
    "\n",
    "5 Kag gintawag niya ang kapawa nga “Adlaw,” kag ang kadudulman nga “Gabi.”\n",
    "Nagligad ang gab-i, kag nag-aga, amo yadto ang nahauna nga adlaw.\n",
    "```\n",
    "\n",
    "Fundamentally, the cleaned text follows this structure:\n",
    "\n",
    "```plaintext\n",
    ")+\n",
    "    **{BOOK_NAME} {CHAPTER_NUM}**\n",
    "    \n",
    "    **{CHAPTER_NAME}**\n",
    "    \n",
    "        (\n",
    "        **{VERSE_NUM}** {VERSE_TEXT}\n",
    "        ?({VERSE_TEXT})*\n",
    "        )+\n",
    ")+\n",
    "```\n",
    "\n",
    "Our immediate goal is to remove all `BOOK*`, `CHAPTER*`, and `VERSE_NUM` markers, leaving only the verse text itself. After stripping those elements, the output should appear simply as:\n",
    "\n",
    "```plaintext\n",
    "{VERSE_TEXT}\n",
    "{VERSE_TEXT}\n",
    "...\n",
    "```\n",
    "\n",
    "A high-level view of the preprocessing pipeline:\n",
    "\n",
    "```mermaid\n",
    "flowchart TD\n",
    "    A[Raw PDF → Plain Text]\n",
    "    B[Remove page numbers & copyright lines]\n",
    "    C[Strip Markdown headers]\n",
    "    D[Eliminate BOOK & CHAPTER headings]\n",
    "    E[Remove verse numbers]\n",
    "    F[Cleaned verse-only text]\n",
    "\n",
    "    A --> B --> C --> D --> E --> F\n",
    "```\n",
    "\n",
    "This streamlined text format will be instrumental when building a parallel corpus later on.\n"
   ]
  },
  {
   "cell_type": "markdown",
   "id": "8f18557b-825a-4d84-87da-db262abd2b42",
   "metadata": {},
   "source": [
    "### Part A: Removing Page Numbers and Copyright Lines\n",
    "Removing the page numbers in the text is quite simple, targeting lone digits within the text, These have the form of `^\\d+\\n\\n`. Note that the second `\\n` isn't optional as making it optional would also target verses which have the following structure\n",
    "\n",
    "```plaintext\n",
    "{VERSE_NUM}\n",
    "{VERSE_TEXT}\n",
    "```"
   ]
  },
  {
   "cell_type": "code",
   "execution_count": null,
   "id": "0d1c128a-6abe-484d-831d-b88a1e006066",
   "metadata": {},
   "outputs": [],
   "source": [
    "RE_PAGE_NUM = re.compile(r'^\\d+\\n\\n')\n",
    "RE_COPYRIGHT = re.compile(r'"
   ]
  }
 ],
 "metadata": {
  "kernelspec": {
   "display_name": "Python 3 (ipykernel)",
   "language": "python",
   "name": "python3"
  },
  "language_info": {
   "codemirror_mode": {
    "name": "ipython",
    "version": 3
   },
   "file_extension": ".py",
   "mimetype": "text/x-python",
   "name": "python",
   "nbconvert_exporter": "python",
   "pygments_lexer": "ipython3",
   "version": "3.13.3"
  }
 },
 "nbformat": 4,
 "nbformat_minor": 5
}
