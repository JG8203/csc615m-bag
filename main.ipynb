{
 "cells": [
  {
   "cell_type": "markdown",
   "id": "e082233a-c692-4c00-a85d-dfb709638fe9",
   "metadata": {},
   "source": [
    "### Downloading the Dataset"
   ]
  },
  {
   "cell_type": "code",
   "execution_count": 1,
   "id": "62559dc1-c58d-4033-a8cc-7d829e463f35",
   "metadata": {},
   "outputs": [
    {
     "ename": "ModuleNotFoundError",
     "evalue": "No module named 'pymupdf4llm'",
     "output_type": "error",
     "traceback": [
      "\u001b[31m---------------------------------------------------------------------------\u001b[39m",
      "\u001b[31mModuleNotFoundError\u001b[39m                       Traceback (most recent call last)",
      "\u001b[36mCell\u001b[39m\u001b[36m \u001b[39m\u001b[32mIn[1]\u001b[39m\u001b[32m, line 1\u001b[39m\n\u001b[32m----> \u001b[39m\u001b[32m1\u001b[39m \u001b[38;5;28;01mimport\u001b[39;00m\u001b[38;5;250m \u001b[39m\u001b[34;01mpymupdf4llm\u001b[39;00m\n\u001b[32m      2\u001b[39m \u001b[38;5;28;01mimport\u001b[39;00m\u001b[38;5;250m \u001b[39m\u001b[34;01mrequests\u001b[39;00m\n\u001b[32m      3\u001b[39m \u001b[38;5;28;01mfrom\u001b[39;00m\u001b[38;5;250m \u001b[39m\u001b[34;01mtqdm\u001b[39;00m\u001b[38;5;250m \u001b[39m\u001b[38;5;28;01mimport\u001b[39;00m tqdm\n",
      "\u001b[31mModuleNotFoundError\u001b[39m: No module named 'pymupdf4llm'"
     ]
    }
   ],
   "source": [
    "import pymupdf4llm\n",
    "import requests\n",
    "from tqdm import tqdm"
   ]
  },
  {
   "cell_type": "code",
   "execution_count": 6,
   "id": "743edda9-57a9-40ee-b513-289a02986d99",
   "metadata": {},
   "outputs": [
    {
     "name": "stdout",
     "output_type": "stream",
     "text": [
      "Downloading Hiligaynon-Maayong-Balita-nga-Biblia-All-Bible.pdf...\n",
      "Saved to Hiligaynon-Maayong-Balita-nga-Biblia-All-Bible.pdf\n",
      "Downloading Cebuano-All-Bible.pdf...\n",
      "Saved to Cebuano-All-Bible.pdf\n",
      "Downloading Filipino-Magandang-Balita-Biblia-Revised-All-Bible.pdf...\n",
      "Saved to Filipino-Magandang-Balita-Biblia-Revised-All-Bible.pdf\n"
     ]
    }
   ],
   "source": [
    "urls = [\n",
    "    \"https://bibliamundi.com/wp-content/uploads/2023/09/Hiligaynon-Maayong-Balita-nga-Biblia-All-Bible.pdf\",\n",
    "    \"https://bibliamundi.com/wp-content/uploads/2023/09/Cebuano-All-Bible.pdf\",\n",
    "    \"https://bibliamundi.com/wp-content/uploads/2023/09/Filipino-Magandang-Balita-Biblia-Revised-All-Bible.pdf\"\n",
    "]\n",
    "\n",
    "for url in urls:\n",
    "    filename = url.split(\"/\")[-1]\n",
    "    print(f\"Downloading {filename}...\")\n",
    "    response = requests.get(url)\n",
    "    if response.status_code == 200:\n",
    "        with open(filename, 'wb') as f:\n",
    "            f.write(response.content)\n",
    "        print(f\"Saved to {filename}\")\n",
    "    else:\n",
    "        print(f\"Failed to download {url}\")"
   ]
  },
  {
   "cell_type": "markdown",
   "id": "0d0017b1-d92a-4a0e-a340-4253a8dd6de8",
   "metadata": {},
   "source": [
    "### Converting PDFs to Text Files"
   ]
  },
  {
   "cell_type": "code",
   "execution_count": 5,
   "id": "99380336-d794-4532-9cb9-5a8b05748b69",
   "metadata": {},
   "outputs": [
    {
     "name": "stderr",
     "output_type": "stream",
     "text": [
      "  0%|                                                                                                                         | 0/3 [00:00<?, ?it/s]"
     ]
    },
    {
     "name": "stdout",
     "output_type": "stream",
     "text": [
      "Processing Cebuano-All-Bible.pdf...\n",
      "[========================================]\n"
     ]
    },
    {
     "name": "stderr",
     "output_type": "stream",
     "text": [
      " 33%|█████████████████████████████████████▎                                                                          | 1/3 [02:46<05:32, 166.14s/it]"
     ]
    },
    {
     "name": "stdout",
     "output_type": "stream",
     "text": [
      "Processing Hiligaynon-Ang-Pulong-Sang-Dios-All-Bible.pdf...\n",
      "[========================================]\n"
     ]
    },
    {
     "name": "stderr",
     "output_type": "stream",
     "text": [
      " 67%|██████████████████████████████████████████████████████████████████████████▋                                     | 2/3 [04:53<02:23, 143.59s/it]"
     ]
    },
    {
     "name": "stdout",
     "output_type": "stream",
     "text": [
      "Processing Filipino-Magandang-Balita-Biblia-Revised-All-Bible.pdf...\n",
      "[========================================]\n"
     ]
    },
    {
     "name": "stderr",
     "output_type": "stream",
     "text": [
      "100%|████████████████████████████████████████████████████████████████████████████████████████████████████████████████| 3/3 [07:43<00:00, 154.39s/it]\n"
     ]
    }
   ],
   "source": [
    "bible_files = [\"Cebuano-All-Bible\",\"Hiligaynon-Ang-Pulong-Sang-Dios-All-Bible\",\n",
    "               \"Hiligaynon-Maayong-Balita-nga-Biblia-All-Bible\"]\n",
    "\n",
    "for file in tqdm(bible_files):\n",
    "    md_text = pymupdf4llm.to_markdown(f\"{file}.pdf\", show_progress=True)\n",
    "    with open(f'{file}.md', 'w') as f: f.write(md_text)"
   ]
  },
  {
   "attachments": {},
   "cell_type": "markdown",
   "id": "26be2e62-0c91-45c7-a08e-a2ef0482cf24",
   "metadata": {},
   "source": [
    "## First Look\n",
    "The Bible datasets used in this notebook were primarily sourced from the **Philippine Bible Society**, the leading institution responsible for translating and publishing Scripture in various Philippine languages. All selected versions were obtained from [Bibliamundi](https://bibliamundi.com), a digital platform dedicated to aggregating and freely distributing multilingual editions of the Bible in accessible formats such as PDF.\n",
    "\n",
    "### Hiligaynon: Maayong Balita nga Biblia (en: The Good News Bible)\n",
    "The Maayong Balita nga Biblia (2012) is a dynamic-equivalence translation of the Bible into Hiligaynon, designed to communicate the message of Scripture in a clear and natural style. It was translated directly from the original Hebrew and Greek texts by the Philippine Bible Society, using widely accepted scholarly sources such as the Masoretic Text and the UBS Greek New Testament.\n",
    "\n",
    "This edition adopts an informal yet faithful tone to make the text accessible to contemporary readers. It primarily serves the approximately 7 million Hiligaynon speakers living in Western Visayas and surrounding regions in the Philippines.\n",
    "\n",
    "### Cebuano: Ang Bag-ong Maayong Balita (en: The New Good News Bible)\n",
    "The Ang Bag-ong Maayong Balita Biblia is a Cebuano based translation of the bible. It was published by the Philippine Bible Society in 1999. This bible also adapts a dynamic-equivalence philosophy, which focuses on converying the meaning of the original texts rather than word-for-word translation. It also uses the Masoretic Texts for the Old Testament and the UBS Greek New Testament.\n",
    "\n",
    "Cebuano is spoken by 20 m"
   ]
  },
  {
   "cell_type": "code",
   "execution_count": null,
   "id": "448249d4-a300-4dbe-a355-1bd2bb5793bf",
   "metadata": {},
   "outputs": [],
   "source": []
  }
 ],
 "metadata": {
  "kernelspec": {
   "display_name": "Python 3 (ipykernel)",
   "language": "python",
   "name": "python3"
  },
  "language_info": {
   "codemirror_mode": {
    "name": "ipython",
    "version": 3
   },
   "file_extension": ".py",
   "mimetype": "text/x-python",
   "name": "python",
   "nbconvert_exporter": "python",
   "pygments_lexer": "ipython3",
   "version": "3.13.3"
  }
 },
 "nbformat": 4,
 "nbformat_minor": 5
}
